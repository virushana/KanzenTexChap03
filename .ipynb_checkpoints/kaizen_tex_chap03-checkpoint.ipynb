{
 "cells": [
  {
   "cell_type": "code",
   "execution_count": null,
   "id": "47036ad9",
   "metadata": {},
   "outputs": [],
   "source": [
    "# テキスト「PYTHON完全入門」のうちスクリプトの実習をJupyterで行う。\n",
    "# なお、ブログラムの実習は将来的な社内業務の自動化に備えてVisualStudioCodeで行う。\n",
    "\n",
    "## Chapter3 全ての基本になる文法を学ぶ"
   ]
  }
 ],
 "metadata": {
  "kernelspec": {
   "display_name": "Python 3 (ipykernel)",
   "language": "python",
   "name": "python3"
  },
  "language_info": {
   "codemirror_mode": {
    "name": "ipython",
    "version": 3
   },
   "file_extension": ".py",
   "mimetype": "text/x-python",
   "name": "python",
   "nbconvert_exporter": "python",
   "pygments_lexer": "ipython3",
   "version": "3.9.7"
  }
 },
 "nbformat": 4,
 "nbformat_minor": 5
}
